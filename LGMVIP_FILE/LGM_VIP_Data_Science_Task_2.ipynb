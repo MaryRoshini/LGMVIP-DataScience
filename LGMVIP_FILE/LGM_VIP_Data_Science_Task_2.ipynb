{
 "cells": [
  {
   "cell_type": "markdown",
   "metadata": {},
   "source": [
    "---\n",
    "\n",
    "# <center><b>LetsGrowMore- Data Science Intern</b></center>  \n",
    "<font size=4><center>Author: Mary Roshini L</center></font>\n",
    "\n",
    "\n",
    "<font size =5><b><center>TASK02-STOCK MARKET PREDICTION <center></font>\n",
    "\n",
    "---"
   ]
  },
  {
   "cell_type": "markdown",
   "metadata": {},
   "source": [
    "Aim:  To solve the problem of Stock Prices Prediction by stacked Long-Short Term Memory (LSTM), to predict future stock values."
   ]
  },
  {
   "cell_type": "markdown",
   "metadata": {},
   "source": [
    "#### Introduction\n",
    "####    Importing necessary libraries\n",
    "#### Loading Dataset\n",
    "####    Data Normalization\n",
    "#### Spliting Dataset into Train and Test sets\n",
    "#### Model Building\n",
    "#### LSTM\n",
    "#### Predict the next 30 days Stock Price"
   ]
  },
  {
   "cell_type": "markdown",
   "metadata": {},
   "source": [
    "### IMPORT THE NECESSARY LIBRARIES"
   ]
  },
  {
   "cell_type": "code",
   "execution_count": 2,
   "metadata": {},
   "outputs": [
    {
     "name": "stderr",
     "output_type": "stream",
     "text": [
      "In C:\\Users\\Mary roshini L\\Anaconda3\\lib\\site-packages\\matplotlib\\mpl-data\\stylelib\\_classic_test.mplstyle: \n",
      "The savefig.frameon rcparam was deprecated in Matplotlib 3.1 and will be removed in 3.3.\n",
      "In C:\\Users\\Mary roshini L\\Anaconda3\\lib\\site-packages\\matplotlib\\mpl-data\\stylelib\\_classic_test.mplstyle: \n",
      "The verbose.level rcparam was deprecated in Matplotlib 3.1 and will be removed in 3.3.\n",
      "In C:\\Users\\Mary roshini L\\Anaconda3\\lib\\site-packages\\matplotlib\\mpl-data\\stylelib\\_classic_test.mplstyle: \n",
      "The verbose.fileo rcparam was deprecated in Matplotlib 3.1 and will be removed in 3.3.\n"
     ]
    }
   ],
   "source": [
    "import numpy as np\n",
    "import matplotlib.pyplot as plt\n",
    "import pandas as pd"
   ]
  },
  {
   "cell_type": "code",
   "execution_count": 3,
   "metadata": {},
   "outputs": [],
   "source": [
    "url = 'https://raw.githubusercontent.com/mwitiderrick/stockprice/master/NSE-TATAGLOBAL.csv'\n",
    "data_train = pd.read_csv(url)\n",
    "train_set = data_train.iloc[:, 1:2].values"
   ]
  },
  {
   "cell_type": "code",
   "execution_count": 4,
   "metadata": {},
   "outputs": [
    {
     "data": {
      "text/html": [
       "<div>\n",
       "<style scoped>\n",
       "    .dataframe tbody tr th:only-of-type {\n",
       "        vertical-align: middle;\n",
       "    }\n",
       "\n",
       "    .dataframe tbody tr th {\n",
       "        vertical-align: top;\n",
       "    }\n",
       "\n",
       "    .dataframe thead th {\n",
       "        text-align: right;\n",
       "    }\n",
       "</style>\n",
       "<table border=\"1\" class=\"dataframe\">\n",
       "  <thead>\n",
       "    <tr style=\"text-align: right;\">\n",
       "      <th></th>\n",
       "      <th>Date</th>\n",
       "      <th>Open</th>\n",
       "      <th>High</th>\n",
       "      <th>Low</th>\n",
       "      <th>Last</th>\n",
       "      <th>Close</th>\n",
       "      <th>Total Trade Quantity</th>\n",
       "      <th>Turnover (Lacs)</th>\n",
       "    </tr>\n",
       "  </thead>\n",
       "  <tbody>\n",
       "    <tr>\n",
       "      <th>0</th>\n",
       "      <td>2018-09-28</td>\n",
       "      <td>234.05</td>\n",
       "      <td>235.95</td>\n",
       "      <td>230.20</td>\n",
       "      <td>233.50</td>\n",
       "      <td>233.75</td>\n",
       "      <td>3069914</td>\n",
       "      <td>7162.35</td>\n",
       "    </tr>\n",
       "    <tr>\n",
       "      <th>1</th>\n",
       "      <td>2018-09-27</td>\n",
       "      <td>234.55</td>\n",
       "      <td>236.80</td>\n",
       "      <td>231.10</td>\n",
       "      <td>233.80</td>\n",
       "      <td>233.25</td>\n",
       "      <td>5082859</td>\n",
       "      <td>11859.95</td>\n",
       "    </tr>\n",
       "    <tr>\n",
       "      <th>2</th>\n",
       "      <td>2018-09-26</td>\n",
       "      <td>240.00</td>\n",
       "      <td>240.00</td>\n",
       "      <td>232.50</td>\n",
       "      <td>235.00</td>\n",
       "      <td>234.25</td>\n",
       "      <td>2240909</td>\n",
       "      <td>5248.60</td>\n",
       "    </tr>\n",
       "    <tr>\n",
       "      <th>3</th>\n",
       "      <td>2018-09-25</td>\n",
       "      <td>233.30</td>\n",
       "      <td>236.75</td>\n",
       "      <td>232.00</td>\n",
       "      <td>236.25</td>\n",
       "      <td>236.10</td>\n",
       "      <td>2349368</td>\n",
       "      <td>5503.90</td>\n",
       "    </tr>\n",
       "    <tr>\n",
       "      <th>4</th>\n",
       "      <td>2018-09-24</td>\n",
       "      <td>233.55</td>\n",
       "      <td>239.20</td>\n",
       "      <td>230.75</td>\n",
       "      <td>234.00</td>\n",
       "      <td>233.30</td>\n",
       "      <td>3423509</td>\n",
       "      <td>7999.55</td>\n",
       "    </tr>\n",
       "  </tbody>\n",
       "</table>\n",
       "</div>"
      ],
      "text/plain": [
       "         Date    Open    High     Low    Last   Close  Total Trade Quantity  \\\n",
       "0  2018-09-28  234.05  235.95  230.20  233.50  233.75               3069914   \n",
       "1  2018-09-27  234.55  236.80  231.10  233.80  233.25               5082859   \n",
       "2  2018-09-26  240.00  240.00  232.50  235.00  234.25               2240909   \n",
       "3  2018-09-25  233.30  236.75  232.00  236.25  236.10               2349368   \n",
       "4  2018-09-24  233.55  239.20  230.75  234.00  233.30               3423509   \n",
       "\n",
       "   Turnover (Lacs)  \n",
       "0          7162.35  \n",
       "1         11859.95  \n",
       "2          5248.60  \n",
       "3          5503.90  \n",
       "4          7999.55  "
      ]
     },
     "execution_count": 4,
     "metadata": {},
     "output_type": "execute_result"
    }
   ],
   "source": [
    "data_train.head()"
   ]
  },
  {
   "cell_type": "code",
   "execution_count": 6,
   "metadata": {},
   "outputs": [
    {
     "data": {
      "text/plain": [
       "0       233.75\n",
       "1       233.25\n",
       "2       234.25\n",
       "3       236.10\n",
       "4       233.30\n",
       "5       234.60\n",
       "6       234.90\n",
       "7       235.05\n",
       "8       236.60\n",
       "9       233.95\n",
       "10      222.65\n",
       "11      216.00\n",
       "12      222.00\n",
       "13      222.95\n",
       "14      221.05\n",
       "15      222.40\n",
       "16      223.70\n",
       "17      236.70\n",
       "18      234.30\n",
       "19      236.00\n",
       "20      234.55\n",
       "21      233.35\n",
       "22      237.05\n",
       "23      231.00\n",
       "24      235.45\n",
       "25      240.55\n",
       "26      245.15\n",
       "27      243.00\n",
       "28      239.35\n",
       "29      237.55\n",
       "         ...  \n",
       "2005    120.50\n",
       "2006    117.60\n",
       "2007    117.75\n",
       "2008    118.15\n",
       "2009    117.00\n",
       "2010    116.45\n",
       "2011    116.70\n",
       "2012    111.50\n",
       "2013    113.05\n",
       "2014    108.85\n",
       "2015    110.10\n",
       "2016    111.25\n",
       "2017    114.15\n",
       "2018    112.55\n",
       "2019    113.90\n",
       "2020    112.30\n",
       "2021    112.85\n",
       "2022    112.10\n",
       "2023    114.05\n",
       "2024    116.50\n",
       "2025    118.30\n",
       "2026    117.30\n",
       "2027    116.05\n",
       "2028    116.60\n",
       "2029    118.25\n",
       "2030    118.65\n",
       "2031    117.60\n",
       "2032    120.65\n",
       "2033    120.90\n",
       "2034    121.55\n",
       "Name: Close, Length: 2035, dtype: float64"
      ]
     },
     "execution_count": 6,
     "metadata": {},
     "output_type": "execute_result"
    }
   ],
   "source": [
    "dataclose = data_train['Close']\n",
    "dataclose"
   ]
  },
  {
   "cell_type": "code",
   "execution_count": 7,
   "metadata": {},
   "outputs": [
    {
     "data": {
      "text/plain": [
       "[<matplotlib.lines.Line2D at 0x1517fe03860>]"
      ]
     },
     "execution_count": 7,
     "metadata": {},
     "output_type": "execute_result"
    },
    {
     "data": {
      "image/png": "[encoded data removed]",
      "text/plain": [
       "<Figure size 432x288 with 1 Axes>"
      ]
     },
     "metadata": {
      "needs_background": "light"
     },
     "output_type": "display_data"
    }
   ],
   "source": [
    "plt.plot(dataclose)"
   ]
  },
  {
   "cell_type": "markdown",
   "metadata": {},
   "source": [
    "LSTM is sensitive to scaling there for we use  MinMax Scaler to transform our values between 0 and 1"
   ]
  },
  {
   "cell_type": "markdown",
   "metadata": {},
   "source": [
    "## PREPROCESSING"
   ]
  },
  {
   "cell_type": "markdown",
   "metadata": {},
   "source": [
    "### NORMALIZATION"
   ]
  },
  {
   "cell_type": "code",
   "execution_count": 8,
   "metadata": {},
   "outputs": [],
   "source": [
    "from sklearn.preprocessing import MinMaxScaler\n",
    "SC = MinMaxScaler(feature_range = (0,1))\n",
    "dataclose = SC.fit_transform(np.array(dataclose).reshape(-1,1))"
   ]
  },
  {
   "cell_type": "code",
   "execution_count": 9,
   "metadata": {},
   "outputs": [
    {
     "data": {
      "text/plain": [
       "(2035, 1)"
      ]
     },
     "execution_count": 9,
     "metadata": {},
     "output_type": "execute_result"
    }
   ],
   "source": [
    "dataclose.shape"
   ]
  },
  {
   "cell_type": "markdown",
   "metadata": {},
   "source": [
    "### SPLITTING THE TRAINING AND TESTING SET"
   ]
  },
  {
   "cell_type": "code",
   "execution_count": 10,
   "metadata": {},
   "outputs": [],
   "source": [
    "training_size = int(len(dataclose) * 0.75)\n",
    "test_size = len(dataclose) - training_size\n",
    "train_data, test_data = dataclose[0:training_size,:], dataclose[training_size:len(dataclose),:1]"
   ]
  },
  {
   "cell_type": "code",
   "execution_count": 14,
   "metadata": {},
   "outputs": [],
   "source": [
    "def create_dataset(dataset, time_step = 1):\n",
    "    dataX, dataY = [], []\n",
    "    for i in range(len(dataset) - time_step - 1):\n",
    "        a = dataset[i:(i+time_step), 0]\n",
    "        dataX.append(a)\n",
    "        dataY.append(dataset[i+time_step, 0])\n",
    "    return np.array(dataX), np.array(dataY)"
   ]
  },
  {
   "cell_type": "code",
   "execution_count": 17,
   "metadata": {},
   "outputs": [],
   "source": [
    "time_step = 100\n",
    "x_train, y_train = create_dataset(train_data, time_step)\n",
    "x_test, y_test = create_dataset(test_data, time_step)"
   ]
  },
  {
   "cell_type": "markdown",
   "metadata": {},
   "source": [
    "### Reshape the input to be [samples, time steps, features] which is the requirement of LSTM"
   ]
  },
  {
   "cell_type": "code",
   "execution_count": 18,
   "metadata": {},
   "outputs": [],
   "source": [
    "\n",
    "x_train = x_train.reshape(x_train.shape[0], x_train.shape[1], 1)\n",
    "x_test = x_test.reshape(x_test.shape[0], x_test.shape[1], 1)"
   ]
  },
  {
   "cell_type": "markdown",
   "metadata": {},
   "source": [
    "## MODEL BUILDING"
   ]
  },
  {
   "cell_type": "code",
   "execution_count": 19,
   "metadata": {},
   "outputs": [
    {
     "name": "stderr",
     "output_type": "stream",
     "text": [
      "C:\\Users\\Mary roshini L\\Anaconda3\\lib\\site-packages\\requests\\__init__.py:91: RequestsDependencyWarning: urllib3 (1.26.6) or chardet (3.0.4) doesn't match a supported version!\n",
      "  RequestsDependencyWarning)\n"
     ]
    }
   ],
   "source": [
    "#Create the LSTM Model\n",
    "from keras.models import Sequential\n",
    "from keras.layers import LSTM\n",
    "from keras.layers import Dropout\n",
    "from keras.layers import Dense\n",
    "model = Sequential()\n",
    "model.add(LSTM(50, return_sequences = True, input_shape = (100,1)))\n",
    "model.add(LSTM(50, return_sequences = True))\n",
    "model.add(LSTM(50))\n",
    "model.add(Dense(1))\n",
    "model.compile(loss = 'mean_squared_error', optimizer = 'adam')"
   ]
  },
  {
   "cell_type": "code",
   "execution_count": 20,
   "metadata": {},
   "outputs": [
    {
     "name": "stdout",
     "output_type": "stream",
     "text": [
      "Model: \"sequential\"\n",
      "_________________________________________________________________\n",
      "Layer (type)                 Output Shape              Param #   \n",
      "=================================================================\n",
      "lstm (LSTM)                  (None, 100, 50)           10400     \n",
      "_________________________________________________________________\n",
      "lstm_1 (LSTM)                (None, 100, 50)           20200     \n",
      "_________________________________________________________________\n",
      "lstm_2 (LSTM)                (None, 50)                20200     \n",
      "_________________________________________________________________\n",
      "dense (Dense)                (None, 1)                 51        \n",
      "=================================================================\n",
      "Total params: 50,851\n",
      "Trainable params: 50,851\n",
      "Non-trainable params: 0\n",
      "_________________________________________________________________\n"
     ]
    }
   ],
   "source": [
    "model.summary()"
   ]
  },
  {
   "cell_type": "code",
   "execution_count": 21,
   "metadata": {},
   "outputs": [
    {
     "name": "stdout",
     "output_type": "stream",
     "text": [
      "Model: \"sequential\"\n",
      "_________________________________________________________________\n",
      "Layer (type)                 Output Shape              Param #   \n",
      "=================================================================\n",
      "lstm (LSTM)                  (None, 100, 50)           10400     \n",
      "_________________________________________________________________\n",
      "lstm_1 (LSTM)                (None, 100, 50)           20200     \n",
      "_________________________________________________________________\n",
      "lstm_2 (LSTM)                (None, 50)                20200     \n",
      "_________________________________________________________________\n",
      "dense (Dense)                (None, 1)                 51        \n",
      "=================================================================\n",
      "Total params: 50,851\n",
      "Trainable params: 50,851\n",
      "Non-trainable params: 0\n",
      "_________________________________________________________________\n"
     ]
    }
   ],
   "source": [
    "model.summary()"
   ]
  },
  {
   "cell_type": "code",
   "execution_count": 22,
   "metadata": {},
   "outputs": [
    {
     "name": "stdout",
     "output_type": "stream",
     "text": [
      "Epoch 1/100\n",
      "23/23 [==============================] - 19s 336ms/step - loss: 0.0383 - val_loss: 0.0053\n",
      "Epoch 2/100\n",
      "23/23 [==============================] - 5s 214ms/step - loss: 0.0031 - val_loss: 7.4448e-04\n",
      "Epoch 3/100\n",
      "23/23 [==============================] - 5s 231ms/step - loss: 0.0020 - val_loss: 0.0011\n",
      "Epoch 4/100\n",
      "23/23 [==============================] - 5s 226ms/step - loss: 0.0014 - val_loss: 0.0011\n",
      "Epoch 5/100\n",
      "23/23 [==============================] - 5s 230ms/step - loss: 0.0016 - val_loss: 0.0011\n",
      "Epoch 6/100\n",
      "23/23 [==============================] - 6s 252ms/step - loss: 0.0016 - val_loss: 0.0010\n",
      "Epoch 7/100\n",
      "23/23 [==============================] - 5s 222ms/step - loss: 0.0013 - val_loss: 0.0015\n",
      "Epoch 8/100\n",
      "23/23 [==============================] - 5s 224ms/step - loss: 0.0018 - val_loss: 0.0016\n",
      "Epoch 9/100\n",
      "23/23 [==============================] - 6s 244ms/step - loss: 0.0013 - val_loss: 0.0013\n",
      "Epoch 10/100\n",
      "23/23 [==============================] - 5s 222ms/step - loss: 0.0013 - val_loss: 7.5689e-04\n",
      "Epoch 11/100\n",
      "23/23 [==============================] - 5s 214ms/step - loss: 0.0013 - val_loss: 0.0012\n",
      "Epoch 12/100\n",
      "23/23 [==============================] - 5s 217ms/step - loss: 0.0010 - val_loss: 8.9435e-04\n",
      "Epoch 13/100\n",
      "23/23 [==============================] - 5s 216ms/step - loss: 9.9875e-04 - val_loss: 0.0011\n",
      "Epoch 14/100\n",
      "23/23 [==============================] - 5s 226ms/step - loss: 9.5153e-04 - val_loss: 9.5938e-04\n",
      "Epoch 15/100\n",
      "23/23 [==============================] - 5s 214ms/step - loss: 9.1409e-04 - val_loss: 7.3493e-04\n",
      "Epoch 16/100\n",
      "23/23 [==============================] - 5s 217ms/step - loss: 8.9502e-04 - val_loss: 7.6158e-04\n",
      "Epoch 17/100\n",
      "23/23 [==============================] - 5s 224ms/step - loss: 9.0937e-04 - val_loss: 6.2838e-04\n",
      "Epoch 18/100\n",
      "23/23 [==============================] - 5s 217ms/step - loss: 0.0010 - val_loss: 9.2717e-04\n",
      "Epoch 19/100\n",
      "23/23 [==============================] - 5s 216ms/step - loss: 7.0706e-04 - val_loss: 7.0630e-04\n",
      "Epoch 20/100\n",
      "23/23 [==============================] - 5s 215ms/step - loss: 7.3842e-04 - val_loss: 7.3107e-04\n",
      "Epoch 21/100\n",
      "23/23 [==============================] - 5s 216ms/step - loss: 8.4254e-04 - val_loss: 6.9986e-04\n",
      "Epoch 22/100\n",
      "23/23 [==============================] - 5s 213ms/step - loss: 6.9626e-04 - val_loss: 7.7852e-04\n",
      "Epoch 23/100\n",
      "23/23 [==============================] - 5s 215ms/step - loss: 7.5534e-04 - val_loss: 7.5662e-04\n",
      "Epoch 24/100\n",
      "23/23 [==============================] - 5s 217ms/step - loss: 7.5622e-04 - val_loss: 8.1882e-04\n",
      "Epoch 25/100\n",
      "23/23 [==============================] - 5s 218ms/step - loss: 5.8939e-04 - val_loss: 9.4947e-04\n",
      "Epoch 26/100\n",
      "23/23 [==============================] - 5s 222ms/step - loss: 6.9856e-04 - val_loss: 9.4031e-04\n",
      "Epoch 27/100\n",
      "23/23 [==============================] - 5s 230ms/step - loss: 8.0594e-04 - val_loss: 7.7896e-04\n",
      "Epoch 28/100\n",
      "23/23 [==============================] - 5s 220ms/step - loss: 5.9133e-04 - val_loss: 6.4911e-04\n",
      "Epoch 29/100\n",
      "23/23 [==============================] - 5s 215ms/step - loss: 6.1156e-04 - val_loss: 6.9013e-04\n",
      "Epoch 30/100\n",
      "23/23 [==============================] - 5s 215ms/step - loss: 5.9669e-04 - val_loss: 7.8077e-04\n",
      "Epoch 31/100\n",
      "23/23 [==============================] - 5s 215ms/step - loss: 5.3848e-04 - val_loss: 7.0489e-04\n",
      "Epoch 32/100\n",
      "23/23 [==============================] - 5s 216ms/step - loss: 5.9587e-04 - val_loss: 0.0010\n",
      "Epoch 33/100\n",
      "23/23 [==============================] - 5s 216ms/step - loss: 7.4127e-04 - val_loss: 7.4531e-04\n",
      "Epoch 34/100\n",
      "23/23 [==============================] - 5s 214ms/step - loss: 5.5358e-04 - val_loss: 7.0510e-04\n",
      "Epoch 35/100\n",
      "23/23 [==============================] - 5s 218ms/step - loss: 6.2677e-04 - val_loss: 7.0577e-04\n",
      "Epoch 36/100\n",
      "23/23 [==============================] - 5s 215ms/step - loss: 6.3890e-04 - val_loss: 5.7912e-04\n",
      "Epoch 37/100\n",
      "23/23 [==============================] - 5s 216ms/step - loss: 5.3779e-04 - val_loss: 6.5400e-04\n",
      "Epoch 38/100\n",
      "23/23 [==============================] - 5s 215ms/step - loss: 5.8186e-04 - val_loss: 6.9842e-04\n",
      "Epoch 39/100\n",
      "23/23 [==============================] - 5s 215ms/step - loss: 4.3726e-04 - val_loss: 7.2067e-04\n",
      "Epoch 40/100\n",
      "23/23 [==============================] - 5s 226ms/step - loss: 5.2557e-04 - val_loss: 5.7164e-04\n",
      "Epoch 41/100\n",
      "23/23 [==============================] - 5s 217ms/step - loss: 4.7198e-04 - val_loss: 6.5098e-04\n",
      "Epoch 42/100\n",
      "23/23 [==============================] - 5s 217ms/step - loss: 4.8864e-04 - val_loss: 4.6222e-04\n",
      "Epoch 43/100\n",
      "23/23 [==============================] - 5s 216ms/step - loss: 5.0463e-04 - val_loss: 3.8962e-04\n",
      "Epoch 44/100\n",
      "23/23 [==============================] - 5s 216ms/step - loss: 5.2017e-04 - val_loss: 4.5119e-04\n",
      "Epoch 45/100\n",
      "23/23 [==============================] - 5s 216ms/step - loss: 4.3712e-04 - val_loss: 5.4191e-04\n",
      "Epoch 46/100\n",
      "23/23 [==============================] - 5s 216ms/step - loss: 4.1151e-04 - val_loss: 5.8593e-04\n",
      "Epoch 47/100\n",
      "23/23 [==============================] - 5s 217ms/step - loss: 4.6624e-04 - val_loss: 4.8407e-04\n",
      "Epoch 48/100\n",
      "23/23 [==============================] - 5s 215ms/step - loss: 3.9493e-04 - val_loss: 3.9855e-04\n",
      "Epoch 49/100\n",
      "23/23 [==============================] - 5s 217ms/step - loss: 4.2085e-04 - val_loss: 4.7129e-04\n",
      "Epoch 50/100\n",
      "23/23 [==============================] - 5s 220ms/step - loss: 4.5142e-04 - val_loss: 3.6125e-04\n",
      "Epoch 51/100\n",
      "23/23 [==============================] - 5s 217ms/step - loss: 4.1247e-04 - val_loss: 3.7996e-04\n",
      "Epoch 52/100\n",
      "23/23 [==============================] - 5s 221ms/step - loss: 3.7624e-04 - val_loss: 5.0931e-04\n",
      "Epoch 53/100\n",
      "23/23 [==============================] - 6s 256ms/step - loss: 4.4191e-04 - val_loss: 3.6395e-04\n",
      "Epoch 54/100\n",
      "23/23 [==============================] - 5s 238ms/step - loss: 3.5408e-04 - val_loss: 3.7644e-04\n",
      "Epoch 55/100\n",
      "23/23 [==============================] - 5s 236ms/step - loss: 3.7187e-04 - val_loss: 3.0204e-04\n",
      "Epoch 56/100\n",
      "23/23 [==============================] - 5s 231ms/step - loss: 3.6205e-04 - val_loss: 2.8784e-04\n",
      "Epoch 57/100\n",
      "23/23 [==============================] - 5s 219ms/step - loss: 4.1134e-04 - val_loss: 4.2147e-04\n",
      "Epoch 58/100\n",
      "23/23 [==============================] - 5s 216ms/step - loss: 4.1747e-04 - val_loss: 4.5041e-04\n",
      "Epoch 59/100\n",
      "23/23 [==============================] - 5s 217ms/step - loss: 3.4471e-04 - val_loss: 3.1413e-04\n",
      "Epoch 60/100\n",
      "23/23 [==============================] - 5s 218ms/step - loss: 3.1607e-04 - val_loss: 3.6478e-04\n",
      "Epoch 61/100\n",
      "23/23 [==============================] - 5s 217ms/step - loss: 3.7313e-04 - val_loss: 3.2654e-04\n",
      "Epoch 62/100\n",
      "23/23 [==============================] - 5s 216ms/step - loss: 3.3572e-04 - val_loss: 3.8674e-04\n",
      "Epoch 63/100\n",
      "23/23 [==============================] - 5s 215ms/step - loss: 3.3642e-04 - val_loss: 2.5309e-04\n",
      "Epoch 64/100\n",
      "23/23 [==============================] - 5s 216ms/step - loss: 3.5370e-04 - val_loss: 2.8335e-04\n",
      "Epoch 65/100\n",
      "23/23 [==============================] - 5s 217ms/step - loss: 3.1788e-04 - val_loss: 3.3740e-04\n",
      "Epoch 66/100\n",
      "23/23 [==============================] - 5s 227ms/step - loss: 2.9707e-04 - val_loss: 3.0975e-04\n",
      "Epoch 67/100\n",
      "23/23 [==============================] - 5s 228ms/step - loss: 3.0840e-04 - val_loss: 2.9446e-04\n",
      "Epoch 68/100\n",
      "23/23 [==============================] - 6s 250ms/step - loss: 4.6389e-04 - val_loss: 3.8537e-04\n",
      "Epoch 69/100\n",
      "23/23 [==============================] - 5s 216ms/step - loss: 3.2155e-04 - val_loss: 2.5862e-04\n",
      "Epoch 70/100\n",
      "23/23 [==============================] - 5s 216ms/step - loss: 3.1226e-04 - val_loss: 3.1628e-04\n",
      "Epoch 71/100\n",
      "23/23 [==============================] - 5s 218ms/step - loss: 2.6595e-04 - val_loss: 2.8736e-04\n",
      "Epoch 72/100\n",
      "23/23 [==============================] - 5s 217ms/step - loss: 2.5362e-04 - val_loss: 2.8749e-04\n",
      "Epoch 73/100\n",
      "23/23 [==============================] - 5s 217ms/step - loss: 2.6417e-04 - val_loss: 2.9630e-04\n",
      "Epoch 74/100\n",
      "23/23 [==============================] - 5s 222ms/step - loss: 2.3849e-04 - val_loss: 2.9198e-04\n",
      "Epoch 75/100\n",
      "23/23 [==============================] - 5s 216ms/step - loss: 2.6898e-04 - val_loss: 3.0120e-04\n",
      "Epoch 76/100\n"
     ]
    },
    {
     "name": "stdout",
     "output_type": "stream",
     "text": [
      "23/23 [==============================] - 5s 213ms/step - loss: 2.4067e-04 - val_loss: 3.2394e-04\n",
      "Epoch 77/100\n",
      "23/23 [==============================] - 5s 219ms/step - loss: 2.4768e-04 - val_loss: 2.5181e-04\n",
      "Epoch 78/100\n",
      "23/23 [==============================] - 5s 219ms/step - loss: 2.3129e-04 - val_loss: 3.1341e-04\n",
      "Epoch 79/100\n",
      "23/23 [==============================] - 6s 251ms/step - loss: 2.5312e-04 - val_loss: 3.5555e-04\n",
      "Epoch 80/100\n",
      "23/23 [==============================] - 5s 214ms/step - loss: 2.4677e-04 - val_loss: 2.8373e-04\n",
      "Epoch 81/100\n",
      "23/23 [==============================] - 5s 214ms/step - loss: 3.1175e-04 - val_loss: 3.0715e-04\n",
      "Epoch 82/100\n",
      "23/23 [==============================] - 5s 213ms/step - loss: 2.4419e-04 - val_loss: 2.7467e-04\n",
      "Epoch 83/100\n",
      "23/23 [==============================] - 5s 215ms/step - loss: 2.3993e-04 - val_loss: 2.2513e-04\n",
      "Epoch 84/100\n",
      "23/23 [==============================] - 5s 213ms/step - loss: 2.1874e-04 - val_loss: 2.1358e-04\n",
      "Epoch 85/100\n",
      "23/23 [==============================] - 5s 225ms/step - loss: 2.3853e-04 - val_loss: 2.7633e-04\n",
      "Epoch 86/100\n",
      "23/23 [==============================] - 5s 212ms/step - loss: 2.6181e-04 - val_loss: 2.3717e-04\n",
      "Epoch 87/100\n",
      "23/23 [==============================] - 5s 213ms/step - loss: 2.4912e-04 - val_loss: 2.3534e-04\n",
      "Epoch 88/100\n",
      "23/23 [==============================] - 5s 222ms/step - loss: 2.3473e-04 - val_loss: 1.9306e-04\n",
      "Epoch 89/100\n",
      "23/23 [==============================] - 5s 215ms/step - loss: 2.3099e-04 - val_loss: 2.2302e-04\n",
      "Epoch 90/100\n",
      "23/23 [==============================] - 5s 214ms/step - loss: 2.2105e-04 - val_loss: 2.1693e-04\n",
      "Epoch 91/100\n",
      "23/23 [==============================] - 5s 211ms/step - loss: 2.0665e-04 - val_loss: 2.1614e-04\n",
      "Epoch 92/100\n",
      "23/23 [==============================] - 5s 226ms/step - loss: 2.1186e-04 - val_loss: 1.8694e-04\n",
      "Epoch 93/100\n",
      "23/23 [==============================] - 5s 216ms/step - loss: 2.6273e-04 - val_loss: 3.2496e-04\n",
      "Epoch 94/100\n",
      "23/23 [==============================] - 5s 215ms/step - loss: 3.3176e-04 - val_loss: 1.8392e-04\n",
      "Epoch 95/100\n",
      "23/23 [==============================] - 5s 213ms/step - loss: 2.6302e-04 - val_loss: 1.8589e-04\n",
      "Epoch 96/100\n",
      "23/23 [==============================] - 5s 214ms/step - loss: 2.7551e-04 - val_loss: 2.6127e-04\n",
      "Epoch 97/100\n",
      "23/23 [==============================] - 5s 214ms/step - loss: 2.7586e-04 - val_loss: 1.6296e-04\n",
      "Epoch 98/100\n",
      "23/23 [==============================] - 5s 220ms/step - loss: 2.9447e-04 - val_loss: 1.8247e-04\n",
      "Epoch 99/100\n",
      "23/23 [==============================] - 5s 214ms/step - loss: 2.4560e-04 - val_loss: 1.8171e-04\n",
      "Epoch 100/100\n",
      "23/23 [==============================] - 5s 235ms/step - loss: 2.0567e-04 - val_loss: 1.8644e-04\n"
     ]
    },
    {
     "data": {
      "text/plain": [
       "<tensorflow.python.keras.callbacks.History at 0x15118f3ce10>"
      ]
     },
     "execution_count": 22,
     "metadata": {},
     "output_type": "execute_result"
    }
   ],
   "source": [
    "model.fit(x_train, y_train, validation_data = (x_test, y_test), epochs = 100, batch_size = 64, verbose = 1)"
   ]
  },
  {
   "cell_type": "code",
   "execution_count": 23,
   "metadata": {},
   "outputs": [],
   "source": [
    "#Lets predict and check performance metrics\n",
    "trainpredict = model.predict(x_train)\n",
    "testpredict = model.predict(x_test)"
   ]
  },
  {
   "cell_type": "code",
   "execution_count": 26,
   "metadata": {},
   "outputs": [],
   "source": [
    "#Transform back to original form\n",
    "trainpredict = SC.inverse_transform(trainpredict)\n",
    "testpredict = SC.inverse_transform(testpredict)"
   ]
  },
  {
   "cell_type": "code",
   "execution_count": 28,
   "metadata": {},
   "outputs": [
    {
     "data": {
      "text/plain": [
       "162.7287956193541"
      ]
     },
     "execution_count": 28,
     "metadata": {},
     "output_type": "execute_result"
    }
   ],
   "source": [
    "## RMSE TRAIN DATA\n",
    "import math\n",
    "from sklearn.metrics import mean_squared_error\n",
    "math.sqrt(mean_squared_error(y_train, trainpredict))"
   ]
  },
  {
   "cell_type": "code",
   "execution_count": 30,
   "metadata": {},
   "outputs": [
    {
     "data": {
      "text/plain": [
       "105.59499661202986"
      ]
     },
     "execution_count": 30,
     "metadata": {},
     "output_type": "execute_result"
    }
   ],
   "source": [
    "# RMSE TEST DATA\n",
    "math.sqrt(mean_squared_error(y_test, testpredict))"
   ]
  },
  {
   "cell_type": "code",
   "execution_count": 33,
   "metadata": {},
   "outputs": [
    {
     "data": {
      "image/png": "[encoded data removed]",
      "text/plain": [
       "<Figure size 432x288 with 1 Axes>"
      ]
     },
     "metadata": {
      "needs_background": "light"
     },
     "output_type": "display_data"
    }
   ],
   "source": [
    "#Plotting\n",
    "\n",
    "#Shift train prediction for plotting\n",
    "look_back = 100\n",
    "trainPredictPlot = np.empty_like(dataclose)\n",
    "trainPredictPlot[:,:] = np.nan\n",
    "trainPredictPlot[look_back:len(trainpredict) + look_back, :] = trainpredict\n",
    "\n",
    "#Shift test prediction for plotting\n",
    "testPredictPlot = np.empty_like(dataclose)\n",
    "testPredictPlot[:,:] = np.nan\n",
    "testPredictPlot[len(trainpredict) + (look_back * 2)+1:len(dataclose) - 1, :] = testpredict\n",
    "\n",
    "#Plot baseline and predictions\n",
    "plt.plot(SC.inverse_transform(dataclose))\n",
    "plt.plot(trainPredictPlot)\n",
    "plt.plot(testPredictPlot)\n",
    "plt.show()"
   ]
  },
  {
   "cell_type": "markdown",
   "metadata": {},
   "source": [
    "### STOCK PREDICTION FOR NEXT 30 DAYS"
   ]
  },
  {
   "cell_type": "code",
   "execution_count": 34,
   "metadata": {},
   "outputs": [
    {
     "data": {
      "text/plain": [
       "(509, (408, 100, 1))"
      ]
     },
     "execution_count": 34,
     "metadata": {},
     "output_type": "execute_result"
    }
   ],
   "source": [
    "len(test_data), x_test.shape"
   ]
  },
  {
   "cell_type": "code",
   "execution_count": 35,
   "metadata": {},
   "outputs": [
    {
     "data": {
      "text/plain": [
       "(1, 100)"
      ]
     },
     "execution_count": 35,
     "metadata": {},
     "output_type": "execute_result"
    }
   ],
   "source": [
    "x_input = test_data[409:].reshape(1,-1)\n",
    "x_input.shape"
   ]
  },
  {
   "cell_type": "code",
   "execution_count": 36,
   "metadata": {},
   "outputs": [],
   "source": [
    "temp_input = list(x_input)\n",
    "temp_input = temp_input[0].tolist()\n"
   ]
  },
  {
   "cell_type": "code",
   "execution_count": 37,
   "metadata": {},
   "outputs": [
    {
     "name": "stdout",
     "output_type": "stream",
     "text": [
      "[0.16493383]\n",
      "101\n",
      "1 day input [0.13848039 0.14011438 0.13888889 0.13541667 0.14011438 0.1380719\n",
      " 0.13071895 0.13071895 0.12867647 0.11846405 0.14644608 0.14808007\n",
      " 0.15910948 0.15992647 0.15788399 0.16441993 0.17892157 0.17933007\n",
      " 0.19260621 0.20812908 0.18974673 0.18055556 0.18239379 0.17708333\n",
      " 0.17810458 0.18055556 0.17810458 0.17851307 0.19607843 0.18913399\n",
      " 0.18954248 0.19403595 0.19444444 0.20200163 0.19771242 0.19934641\n",
      " 0.19873366 0.1997549  0.2128268  0.21568627 0.20445261 0.21772876\n",
      " 0.21098856 0.21425654 0.19750817 0.18811275 0.17851307 0.17381536\n",
      " 0.16033497 0.16564542 0.17116013 0.17422386 0.18035131 0.17401961\n",
      " 0.16278595 0.16973039 0.17810458 0.17034314 0.16830065 0.17279412\n",
      " 0.17544935 0.18382353 0.19138072 0.18913399 0.19097222 0.17238562\n",
      " 0.16830065 0.1693219  0.17177288 0.16156046 0.14971405 0.1503268\n",
      " 0.15196078 0.14726307 0.14501634 0.14603758 0.12479575 0.13112745\n",
      " 0.11397059 0.1190768  0.12377451 0.13562092 0.12908497 0.13459967\n",
      " 0.12806373 0.13031046 0.12724673 0.13521242 0.14522059 0.15257353\n",
      " 0.14848856 0.14338235 0.14562908 0.15236928 0.15400327 0.14971405\n",
      " 0.1621732  0.16319444 0.16584967 0.16493383]\n",
      "1 day output [[0.1664766]]\n",
      "2 day input [0.14011438 0.13888889 0.13541667 0.14011438 0.1380719  0.13071895\n",
      " 0.13071895 0.12867647 0.11846405 0.14644608 0.14808007 0.15910948\n",
      " 0.15992647 0.15788399 0.16441993 0.17892157 0.17933007 0.19260621\n",
      " 0.20812908 0.18974673 0.18055556 0.18239379 0.17708333 0.17810458\n",
      " 0.18055556 0.17810458 0.17851307 0.19607843 0.18913399 0.18954248\n",
      " 0.19403595 0.19444444 0.20200163 0.19771242 0.19934641 0.19873366\n",
      " 0.1997549  0.2128268  0.21568627 0.20445261 0.21772876 0.21098856\n",
      " 0.21425654 0.19750817 0.18811275 0.17851307 0.17381536 0.16033497\n",
      " 0.16564542 0.17116013 0.17422386 0.18035131 0.17401961 0.16278595\n",
      " 0.16973039 0.17810458 0.17034314 0.16830065 0.17279412 0.17544935\n",
      " 0.18382353 0.19138072 0.18913399 0.19097222 0.17238562 0.16830065\n",
      " 0.1693219  0.17177288 0.16156046 0.14971405 0.1503268  0.15196078\n",
      " 0.14726307 0.14501634 0.14603758 0.12479575 0.13112745 0.11397059\n",
      " 0.1190768  0.12377451 0.13562092 0.12908497 0.13459967 0.12806373\n",
      " 0.13031046 0.12724673 0.13521242 0.14522059 0.15257353 0.14848856\n",
      " 0.14338235 0.14562908 0.15236928 0.15400327 0.14971405 0.1621732\n",
      " 0.16319444 0.16584967 0.16493383 0.16647661]\n",
      "2 day output [[0.16699898]]\n",
      "3 day input [0.13888889 0.13541667 0.14011438 0.1380719  0.13071895 0.13071895\n",
      " 0.12867647 0.11846405 0.14644608 0.14808007 0.15910948 0.15992647\n",
      " 0.15788399 0.16441993 0.17892157 0.17933007 0.19260621 0.20812908\n",
      " 0.18974673 0.18055556 0.18239379 0.17708333 0.17810458 0.18055556\n",
      " 0.17810458 0.17851307 0.19607843 0.18913399 0.18954248 0.19403595\n",
      " 0.19444444 0.20200163 0.19771242 0.19934641 0.19873366 0.1997549\n",
      " 0.2128268  0.21568627 0.20445261 0.21772876 0.21098856 0.21425654\n",
      " 0.19750817 0.18811275 0.17851307 0.17381536 0.16033497 0.16564542\n",
      " 0.17116013 0.17422386 0.18035131 0.17401961 0.16278595 0.16973039\n",
      " 0.17810458 0.17034314 0.16830065 0.17279412 0.17544935 0.18382353\n",
      " 0.19138072 0.18913399 0.19097222 0.17238562 0.16830065 0.1693219\n",
      " 0.17177288 0.16156046 0.14971405 0.1503268  0.15196078 0.14726307\n",
      " 0.14501634 0.14603758 0.12479575 0.13112745 0.11397059 0.1190768\n",
      " 0.12377451 0.13562092 0.12908497 0.13459967 0.12806373 0.13031046\n",
      " 0.12724673 0.13521242 0.14522059 0.15257353 0.14848856 0.14338235\n",
      " 0.14562908 0.15236928 0.15400327 0.14971405 0.1621732  0.16319444\n",
      " 0.16584967 0.16493383 0.16647661 0.16699898]\n",
      "3 day output [[0.16720441]]\n",
      "4 day input [0.13541667 0.14011438 0.1380719  0.13071895 0.13071895 0.12867647\n",
      " 0.11846405 0.14644608 0.14808007 0.15910948 0.15992647 0.15788399\n",
      " 0.16441993 0.17892157 0.17933007 0.19260621 0.20812908 0.18974673\n",
      " 0.18055556 0.18239379 0.17708333 0.17810458 0.18055556 0.17810458\n",
      " 0.17851307 0.19607843 0.18913399 0.18954248 0.19403595 0.19444444\n",
      " 0.20200163 0.19771242 0.19934641 0.19873366 0.1997549  0.2128268\n",
      " 0.21568627 0.20445261 0.21772876 0.21098856 0.21425654 0.19750817\n",
      " 0.18811275 0.17851307 0.17381536 0.16033497 0.16564542 0.17116013\n",
      " 0.17422386 0.18035131 0.17401961 0.16278595 0.16973039 0.17810458\n",
      " 0.17034314 0.16830065 0.17279412 0.17544935 0.18382353 0.19138072\n",
      " 0.18913399 0.19097222 0.17238562 0.16830065 0.1693219  0.17177288\n",
      " 0.16156046 0.14971405 0.1503268  0.15196078 0.14726307 0.14501634\n",
      " 0.14603758 0.12479575 0.13112745 0.11397059 0.1190768  0.12377451\n",
      " 0.13562092 0.12908497 0.13459967 0.12806373 0.13031046 0.12724673\n",
      " 0.13521242 0.14522059 0.15257353 0.14848856 0.14338235 0.14562908\n",
      " 0.15236928 0.15400327 0.14971405 0.1621732  0.16319444 0.16584967\n",
      " 0.16493383 0.16647661 0.16699898 0.16720441]\n",
      "4 day output [[0.16732405]]\n",
      "5 day input [0.14011438 0.1380719  0.13071895 0.13071895 0.12867647 0.11846405\n",
      " 0.14644608 0.14808007 0.15910948 0.15992647 0.15788399 0.16441993\n",
      " 0.17892157 0.17933007 0.19260621 0.20812908 0.18974673 0.18055556\n",
      " 0.18239379 0.17708333 0.17810458 0.18055556 0.17810458 0.17851307\n",
      " 0.19607843 0.18913399 0.18954248 0.19403595 0.19444444 0.20200163\n",
      " 0.19771242 0.19934641 0.19873366 0.1997549  0.2128268  0.21568627\n",
      " 0.20445261 0.21772876 0.21098856 0.21425654 0.19750817 0.18811275\n",
      " 0.17851307 0.17381536 0.16033497 0.16564542 0.17116013 0.17422386\n",
      " 0.18035131 0.17401961 0.16278595 0.16973039 0.17810458 0.17034314\n",
      " 0.16830065 0.17279412 0.17544935 0.18382353 0.19138072 0.18913399\n",
      " 0.19097222 0.17238562 0.16830065 0.1693219  0.17177288 0.16156046\n",
      " 0.14971405 0.1503268  0.15196078 0.14726307 0.14501634 0.14603758\n",
      " 0.12479575 0.13112745 0.11397059 0.1190768  0.12377451 0.13562092\n",
      " 0.12908497 0.13459967 0.12806373 0.13031046 0.12724673 0.13521242\n",
      " 0.14522059 0.15257353 0.14848856 0.14338235 0.14562908 0.15236928\n",
      " 0.15400327 0.14971405 0.1621732  0.16319444 0.16584967 0.16493383\n",
      " 0.16647661 0.16699898 0.16720441 0.16732405]\n",
      "5 day output [[0.1674259]]\n",
      "6 day input [0.1380719  0.13071895 0.13071895 0.12867647 0.11846405 0.14644608\n",
      " 0.14808007 0.15910948 0.15992647 0.15788399 0.16441993 0.17892157\n",
      " 0.17933007 0.19260621 0.20812908 0.18974673 0.18055556 0.18239379\n",
      " 0.17708333 0.17810458 0.18055556 0.17810458 0.17851307 0.19607843\n",
      " 0.18913399 0.18954248 0.19403595 0.19444444 0.20200163 0.19771242\n",
      " 0.19934641 0.19873366 0.1997549  0.2128268  0.21568627 0.20445261\n",
      " 0.21772876 0.21098856 0.21425654 0.19750817 0.18811275 0.17851307\n",
      " 0.17381536 0.16033497 0.16564542 0.17116013 0.17422386 0.18035131\n",
      " 0.17401961 0.16278595 0.16973039 0.17810458 0.17034314 0.16830065\n",
      " 0.17279412 0.17544935 0.18382353 0.19138072 0.18913399 0.19097222\n",
      " 0.17238562 0.16830065 0.1693219  0.17177288 0.16156046 0.14971405\n",
      " 0.1503268  0.15196078 0.14726307 0.14501634 0.14603758 0.12479575\n",
      " 0.13112745 0.11397059 0.1190768  0.12377451 0.13562092 0.12908497\n",
      " 0.13459967 0.12806373 0.13031046 0.12724673 0.13521242 0.14522059\n",
      " 0.15257353 0.14848856 0.14338235 0.14562908 0.15236928 0.15400327\n",
      " 0.14971405 0.1621732  0.16319444 0.16584967 0.16493383 0.16647661\n",
      " 0.16699898 0.16720441 0.16732405 0.1674259 ]\n",
      "6 day output [[0.16753995]]\n",
      "7 day input [0.13071895 0.13071895 0.12867647 0.11846405 0.14644608 0.14808007\n",
      " 0.15910948 0.15992647 0.15788399 0.16441993 0.17892157 0.17933007\n",
      " 0.19260621 0.20812908 0.18974673 0.18055556 0.18239379 0.17708333\n",
      " 0.17810458 0.18055556 0.17810458 0.17851307 0.19607843 0.18913399\n",
      " 0.18954248 0.19403595 0.19444444 0.20200163 0.19771242 0.19934641\n",
      " 0.19873366 0.1997549  0.2128268  0.21568627 0.20445261 0.21772876\n",
      " 0.21098856 0.21425654 0.19750817 0.18811275 0.17851307 0.17381536\n",
      " 0.16033497 0.16564542 0.17116013 0.17422386 0.18035131 0.17401961\n",
      " 0.16278595 0.16973039 0.17810458 0.17034314 0.16830065 0.17279412\n",
      " 0.17544935 0.18382353 0.19138072 0.18913399 0.19097222 0.17238562\n",
      " 0.16830065 0.1693219  0.17177288 0.16156046 0.14971405 0.1503268\n",
      " 0.15196078 0.14726307 0.14501634 0.14603758 0.12479575 0.13112745\n",
      " 0.11397059 0.1190768  0.12377451 0.13562092 0.12908497 0.13459967\n",
      " 0.12806373 0.13031046 0.12724673 0.13521242 0.14522059 0.15257353\n",
      " 0.14848856 0.14338235 0.14562908 0.15236928 0.15400327 0.14971405\n",
      " 0.1621732  0.16319444 0.16584967 0.16493383 0.16647661 0.16699898\n",
      " 0.16720441 0.16732405 0.1674259  0.16753995]\n",
      "7 day output [[0.16768269]]\n",
      "8 day input [0.13071895 0.12867647 0.11846405 0.14644608 0.14808007 0.15910948\n",
      " 0.15992647 0.15788399 0.16441993 0.17892157 0.17933007 0.19260621\n",
      " 0.20812908 0.18974673 0.18055556 0.18239379 0.17708333 0.17810458\n",
      " 0.18055556 0.17810458 0.17851307 0.19607843 0.18913399 0.18954248\n",
      " 0.19403595 0.19444444 0.20200163 0.19771242 0.19934641 0.19873366\n",
      " 0.1997549  0.2128268  0.21568627 0.20445261 0.21772876 0.21098856\n",
      " 0.21425654 0.19750817 0.18811275 0.17851307 0.17381536 0.16033497\n",
      " 0.16564542 0.17116013 0.17422386 0.18035131 0.17401961 0.16278595\n",
      " 0.16973039 0.17810458 0.17034314 0.16830065 0.17279412 0.17544935\n",
      " 0.18382353 0.19138072 0.18913399 0.19097222 0.17238562 0.16830065\n",
      " 0.1693219  0.17177288 0.16156046 0.14971405 0.1503268  0.15196078\n",
      " 0.14726307 0.14501634 0.14603758 0.12479575 0.13112745 0.11397059\n",
      " 0.1190768  0.12377451 0.13562092 0.12908497 0.13459967 0.12806373\n",
      " 0.13031046 0.12724673 0.13521242 0.14522059 0.15257353 0.14848856\n",
      " 0.14338235 0.14562908 0.15236928 0.15400327 0.14971405 0.1621732\n",
      " 0.16319444 0.16584967 0.16493383 0.16647661 0.16699898 0.16720441\n",
      " 0.16732405 0.1674259  0.16753995 0.16768269]\n",
      "8 day output [[0.1678598]]\n",
      "9 day input [0.12867647 0.11846405 0.14644608 0.14808007 0.15910948 0.15992647\n",
      " 0.15788399 0.16441993 0.17892157 0.17933007 0.19260621 0.20812908\n",
      " 0.18974673 0.18055556 0.18239379 0.17708333 0.17810458 0.18055556\n",
      " 0.17810458 0.17851307 0.19607843 0.18913399 0.18954248 0.19403595\n",
      " 0.19444444 0.20200163 0.19771242 0.19934641 0.19873366 0.1997549\n",
      " 0.2128268  0.21568627 0.20445261 0.21772876 0.21098856 0.21425654\n",
      " 0.19750817 0.18811275 0.17851307 0.17381536 0.16033497 0.16564542\n",
      " 0.17116013 0.17422386 0.18035131 0.17401961 0.16278595 0.16973039\n",
      " 0.17810458 0.17034314 0.16830065 0.17279412 0.17544935 0.18382353\n",
      " 0.19138072 0.18913399 0.19097222 0.17238562 0.16830065 0.1693219\n",
      " 0.17177288 0.16156046 0.14971405 0.1503268  0.15196078 0.14726307\n",
      " 0.14501634 0.14603758 0.12479575 0.13112745 0.11397059 0.1190768\n",
      " 0.12377451 0.13562092 0.12908497 0.13459967 0.12806373 0.13031046\n",
      " 0.12724673 0.13521242 0.14522059 0.15257353 0.14848856 0.14338235\n",
      " 0.14562908 0.15236928 0.15400327 0.14971405 0.1621732  0.16319444\n",
      " 0.16584967 0.16493383 0.16647661 0.16699898 0.16720441 0.16732405\n",
      " 0.1674259  0.16753995 0.16768269 0.16785979]\n"
     ]
    },
    {
     "name": "stdout",
     "output_type": "stream",
     "text": [
      "9 day output [[0.16806859]]\n",
      "10 day input [0.11846405 0.14644608 0.14808007 0.15910948 0.15992647 0.15788399\n",
      " 0.16441993 0.17892157 0.17933007 0.19260621 0.20812908 0.18974673\n",
      " 0.18055556 0.18239379 0.17708333 0.17810458 0.18055556 0.17810458\n",
      " 0.17851307 0.19607843 0.18913399 0.18954248 0.19403595 0.19444444\n",
      " 0.20200163 0.19771242 0.19934641 0.19873366 0.1997549  0.2128268\n",
      " 0.21568627 0.20445261 0.21772876 0.21098856 0.21425654 0.19750817\n",
      " 0.18811275 0.17851307 0.17381536 0.16033497 0.16564542 0.17116013\n",
      " 0.17422386 0.18035131 0.17401961 0.16278595 0.16973039 0.17810458\n",
      " 0.17034314 0.16830065 0.17279412 0.17544935 0.18382353 0.19138072\n",
      " 0.18913399 0.19097222 0.17238562 0.16830065 0.1693219  0.17177288\n",
      " 0.16156046 0.14971405 0.1503268  0.15196078 0.14726307 0.14501634\n",
      " 0.14603758 0.12479575 0.13112745 0.11397059 0.1190768  0.12377451\n",
      " 0.13562092 0.12908497 0.13459967 0.12806373 0.13031046 0.12724673\n",
      " 0.13521242 0.14522059 0.15257353 0.14848856 0.14338235 0.14562908\n",
      " 0.15236928 0.15400327 0.14971405 0.1621732  0.16319444 0.16584967\n",
      " 0.16493383 0.16647661 0.16699898 0.16720441 0.16732405 0.1674259\n",
      " 0.16753995 0.16768269 0.16785979 0.16806859]\n",
      "10 day output [[0.1683023]]\n",
      "11 day input [0.14644608 0.14808007 0.15910948 0.15992647 0.15788399 0.16441993\n",
      " 0.17892157 0.17933007 0.19260621 0.20812908 0.18974673 0.18055556\n",
      " 0.18239379 0.17708333 0.17810458 0.18055556 0.17810458 0.17851307\n",
      " 0.19607843 0.18913399 0.18954248 0.19403595 0.19444444 0.20200163\n",
      " 0.19771242 0.19934641 0.19873366 0.1997549  0.2128268  0.21568627\n",
      " 0.20445261 0.21772876 0.21098856 0.21425654 0.19750817 0.18811275\n",
      " 0.17851307 0.17381536 0.16033497 0.16564542 0.17116013 0.17422386\n",
      " 0.18035131 0.17401961 0.16278595 0.16973039 0.17810458 0.17034314\n",
      " 0.16830065 0.17279412 0.17544935 0.18382353 0.19138072 0.18913399\n",
      " 0.19097222 0.17238562 0.16830065 0.1693219  0.17177288 0.16156046\n",
      " 0.14971405 0.1503268  0.15196078 0.14726307 0.14501634 0.14603758\n",
      " 0.12479575 0.13112745 0.11397059 0.1190768  0.12377451 0.13562092\n",
      " 0.12908497 0.13459967 0.12806373 0.13031046 0.12724673 0.13521242\n",
      " 0.14522059 0.15257353 0.14848856 0.14338235 0.14562908 0.15236928\n",
      " 0.15400327 0.14971405 0.1621732  0.16319444 0.16584967 0.16493383\n",
      " 0.16647661 0.16699898 0.16720441 0.16732405 0.1674259  0.16753995\n",
      " 0.16768269 0.16785979 0.16806859 0.1683023 ]\n",
      "11 day output [[0.16855279]]\n",
      "12 day input [0.14808007 0.15910948 0.15992647 0.15788399 0.16441993 0.17892157\n",
      " 0.17933007 0.19260621 0.20812908 0.18974673 0.18055556 0.18239379\n",
      " 0.17708333 0.17810458 0.18055556 0.17810458 0.17851307 0.19607843\n",
      " 0.18913399 0.18954248 0.19403595 0.19444444 0.20200163 0.19771242\n",
      " 0.19934641 0.19873366 0.1997549  0.2128268  0.21568627 0.20445261\n",
      " 0.21772876 0.21098856 0.21425654 0.19750817 0.18811275 0.17851307\n",
      " 0.17381536 0.16033497 0.16564542 0.17116013 0.17422386 0.18035131\n",
      " 0.17401961 0.16278595 0.16973039 0.17810458 0.17034314 0.16830065\n",
      " 0.17279412 0.17544935 0.18382353 0.19138072 0.18913399 0.19097222\n",
      " 0.17238562 0.16830065 0.1693219  0.17177288 0.16156046 0.14971405\n",
      " 0.1503268  0.15196078 0.14726307 0.14501634 0.14603758 0.12479575\n",
      " 0.13112745 0.11397059 0.1190768  0.12377451 0.13562092 0.12908497\n",
      " 0.13459967 0.12806373 0.13031046 0.12724673 0.13521242 0.14522059\n",
      " 0.15257353 0.14848856 0.14338235 0.14562908 0.15236928 0.15400327\n",
      " 0.14971405 0.1621732  0.16319444 0.16584967 0.16493383 0.16647661\n",
      " 0.16699898 0.16720441 0.16732405 0.1674259  0.16753995 0.16768269\n",
      " 0.16785979 0.16806859 0.1683023  0.16855279]\n",
      "12 day output [[0.16881251]]\n",
      "13 day input [0.15910948 0.15992647 0.15788399 0.16441993 0.17892157 0.17933007\n",
      " 0.19260621 0.20812908 0.18974673 0.18055556 0.18239379 0.17708333\n",
      " 0.17810458 0.18055556 0.17810458 0.17851307 0.19607843 0.18913399\n",
      " 0.18954248 0.19403595 0.19444444 0.20200163 0.19771242 0.19934641\n",
      " 0.19873366 0.1997549  0.2128268  0.21568627 0.20445261 0.21772876\n",
      " 0.21098856 0.21425654 0.19750817 0.18811275 0.17851307 0.17381536\n",
      " 0.16033497 0.16564542 0.17116013 0.17422386 0.18035131 0.17401961\n",
      " 0.16278595 0.16973039 0.17810458 0.17034314 0.16830065 0.17279412\n",
      " 0.17544935 0.18382353 0.19138072 0.18913399 0.19097222 0.17238562\n",
      " 0.16830065 0.1693219  0.17177288 0.16156046 0.14971405 0.1503268\n",
      " 0.15196078 0.14726307 0.14501634 0.14603758 0.12479575 0.13112745\n",
      " 0.11397059 0.1190768  0.12377451 0.13562092 0.12908497 0.13459967\n",
      " 0.12806373 0.13031046 0.12724673 0.13521242 0.14522059 0.15257353\n",
      " 0.14848856 0.14338235 0.14562908 0.15236928 0.15400327 0.14971405\n",
      " 0.1621732  0.16319444 0.16584967 0.16493383 0.16647661 0.16699898\n",
      " 0.16720441 0.16732405 0.1674259  0.16753995 0.16768269 0.16785979\n",
      " 0.16806859 0.1683023  0.16855279 0.16881251]\n",
      "13 day output [[0.1690758]]\n",
      "14 day input [0.15992647 0.15788399 0.16441993 0.17892157 0.17933007 0.19260621\n",
      " 0.20812908 0.18974673 0.18055556 0.18239379 0.17708333 0.17810458\n",
      " 0.18055556 0.17810458 0.17851307 0.19607843 0.18913399 0.18954248\n",
      " 0.19403595 0.19444444 0.20200163 0.19771242 0.19934641 0.19873366\n",
      " 0.1997549  0.2128268  0.21568627 0.20445261 0.21772876 0.21098856\n",
      " 0.21425654 0.19750817 0.18811275 0.17851307 0.17381536 0.16033497\n",
      " 0.16564542 0.17116013 0.17422386 0.18035131 0.17401961 0.16278595\n",
      " 0.16973039 0.17810458 0.17034314 0.16830065 0.17279412 0.17544935\n",
      " 0.18382353 0.19138072 0.18913399 0.19097222 0.17238562 0.16830065\n",
      " 0.1693219  0.17177288 0.16156046 0.14971405 0.1503268  0.15196078\n",
      " 0.14726307 0.14501634 0.14603758 0.12479575 0.13112745 0.11397059\n",
      " 0.1190768  0.12377451 0.13562092 0.12908497 0.13459967 0.12806373\n",
      " 0.13031046 0.12724673 0.13521242 0.14522059 0.15257353 0.14848856\n",
      " 0.14338235 0.14562908 0.15236928 0.15400327 0.14971405 0.1621732\n",
      " 0.16319444 0.16584967 0.16493383 0.16647661 0.16699898 0.16720441\n",
      " 0.16732405 0.1674259  0.16753995 0.16768269 0.16785979 0.16806859\n",
      " 0.1683023  0.16855279 0.16881251 0.1690758 ]\n",
      "14 day output [[0.16933863]]\n",
      "15 day input [0.15788399 0.16441993 0.17892157 0.17933007 0.19260621 0.20812908\n",
      " 0.18974673 0.18055556 0.18239379 0.17708333 0.17810458 0.18055556\n",
      " 0.17810458 0.17851307 0.19607843 0.18913399 0.18954248 0.19403595\n",
      " 0.19444444 0.20200163 0.19771242 0.19934641 0.19873366 0.1997549\n",
      " 0.2128268  0.21568627 0.20445261 0.21772876 0.21098856 0.21425654\n",
      " 0.19750817 0.18811275 0.17851307 0.17381536 0.16033497 0.16564542\n",
      " 0.17116013 0.17422386 0.18035131 0.17401961 0.16278595 0.16973039\n",
      " 0.17810458 0.17034314 0.16830065 0.17279412 0.17544935 0.18382353\n",
      " 0.19138072 0.18913399 0.19097222 0.17238562 0.16830065 0.1693219\n",
      " 0.17177288 0.16156046 0.14971405 0.1503268  0.15196078 0.14726307\n",
      " 0.14501634 0.14603758 0.12479575 0.13112745 0.11397059 0.1190768\n",
      " 0.12377451 0.13562092 0.12908497 0.13459967 0.12806373 0.13031046\n",
      " 0.12724673 0.13521242 0.14522059 0.15257353 0.14848856 0.14338235\n",
      " 0.14562908 0.15236928 0.15400327 0.14971405 0.1621732  0.16319444\n",
      " 0.16584967 0.16493383 0.16647661 0.16699898 0.16720441 0.16732405\n",
      " 0.1674259  0.16753995 0.16768269 0.16785979 0.16806859 0.1683023\n",
      " 0.16855279 0.16881251 0.1690758  0.16933863]\n",
      "15 day output [[0.16959874]]\n",
      "16 day input [0.16441993 0.17892157 0.17933007 0.19260621 0.20812908 0.18974673\n",
      " 0.18055556 0.18239379 0.17708333 0.17810458 0.18055556 0.17810458\n",
      " 0.17851307 0.19607843 0.18913399 0.18954248 0.19403595 0.19444444\n",
      " 0.20200163 0.19771242 0.19934641 0.19873366 0.1997549  0.2128268\n",
      " 0.21568627 0.20445261 0.21772876 0.21098856 0.21425654 0.19750817\n",
      " 0.18811275 0.17851307 0.17381536 0.16033497 0.16564542 0.17116013\n",
      " 0.17422386 0.18035131 0.17401961 0.16278595 0.16973039 0.17810458\n",
      " 0.17034314 0.16830065 0.17279412 0.17544935 0.18382353 0.19138072\n",
      " 0.18913399 0.19097222 0.17238562 0.16830065 0.1693219  0.17177288\n",
      " 0.16156046 0.14971405 0.1503268  0.15196078 0.14726307 0.14501634\n",
      " 0.14603758 0.12479575 0.13112745 0.11397059 0.1190768  0.12377451\n",
      " 0.13562092 0.12908497 0.13459967 0.12806373 0.13031046 0.12724673\n",
      " 0.13521242 0.14522059 0.15257353 0.14848856 0.14338235 0.14562908\n",
      " 0.15236928 0.15400327 0.14971405 0.1621732  0.16319444 0.16584967\n",
      " 0.16493383 0.16647661 0.16699898 0.16720441 0.16732405 0.1674259\n",
      " 0.16753995 0.16768269 0.16785979 0.16806859 0.1683023  0.16855279\n",
      " 0.16881251 0.1690758  0.16933863 0.16959874]\n",
      "16 day output [[0.1698551]]\n",
      "17 day input [0.17892157 0.17933007 0.19260621 0.20812908 0.18974673 0.18055556\n",
      " 0.18239379 0.17708333 0.17810458 0.18055556 0.17810458 0.17851307\n",
      " 0.19607843 0.18913399 0.18954248 0.19403595 0.19444444 0.20200163\n",
      " 0.19771242 0.19934641 0.19873366 0.1997549  0.2128268  0.21568627\n",
      " 0.20445261 0.21772876 0.21098856 0.21425654 0.19750817 0.18811275\n",
      " 0.17851307 0.17381536 0.16033497 0.16564542 0.17116013 0.17422386\n",
      " 0.18035131 0.17401961 0.16278595 0.16973039 0.17810458 0.17034314\n",
      " 0.16830065 0.17279412 0.17544935 0.18382353 0.19138072 0.18913399\n",
      " 0.19097222 0.17238562 0.16830065 0.1693219  0.17177288 0.16156046\n",
      " 0.14971405 0.1503268  0.15196078 0.14726307 0.14501634 0.14603758\n",
      " 0.12479575 0.13112745 0.11397059 0.1190768  0.12377451 0.13562092\n",
      " 0.12908497 0.13459967 0.12806373 0.13031046 0.12724673 0.13521242\n",
      " 0.14522059 0.15257353 0.14848856 0.14338235 0.14562908 0.15236928\n",
      " 0.15400327 0.14971405 0.1621732  0.16319444 0.16584967 0.16493383\n",
      " 0.16647661 0.16699898 0.16720441 0.16732405 0.1674259  0.16753995\n",
      " 0.16768269 0.16785979 0.16806859 0.1683023  0.16855279 0.16881251\n",
      " 0.1690758  0.16933863 0.16959874 0.1698551 ]\n"
     ]
    },
    {
     "name": "stdout",
     "output_type": "stream",
     "text": [
      "17 day output [[0.1701075]]\n",
      "18 day input [0.17933007 0.19260621 0.20812908 0.18974673 0.18055556 0.18239379\n",
      " 0.17708333 0.17810458 0.18055556 0.17810458 0.17851307 0.19607843\n",
      " 0.18913399 0.18954248 0.19403595 0.19444444 0.20200163 0.19771242\n",
      " 0.19934641 0.19873366 0.1997549  0.2128268  0.21568627 0.20445261\n",
      " 0.21772876 0.21098856 0.21425654 0.19750817 0.18811275 0.17851307\n",
      " 0.17381536 0.16033497 0.16564542 0.17116013 0.17422386 0.18035131\n",
      " 0.17401961 0.16278595 0.16973039 0.17810458 0.17034314 0.16830065\n",
      " 0.17279412 0.17544935 0.18382353 0.19138072 0.18913399 0.19097222\n",
      " 0.17238562 0.16830065 0.1693219  0.17177288 0.16156046 0.14971405\n",
      " 0.1503268  0.15196078 0.14726307 0.14501634 0.14603758 0.12479575\n",
      " 0.13112745 0.11397059 0.1190768  0.12377451 0.13562092 0.12908497\n",
      " 0.13459967 0.12806373 0.13031046 0.12724673 0.13521242 0.14522059\n",
      " 0.15257353 0.14848856 0.14338235 0.14562908 0.15236928 0.15400327\n",
      " 0.14971405 0.1621732  0.16319444 0.16584967 0.16493383 0.16647661\n",
      " 0.16699898 0.16720441 0.16732405 0.1674259  0.16753995 0.16768269\n",
      " 0.16785979 0.16806859 0.1683023  0.16855279 0.16881251 0.1690758\n",
      " 0.16933863 0.16959874 0.1698551  0.1701075 ]\n",
      "18 day output [[0.17035605]]\n",
      "19 day input [0.19260621 0.20812908 0.18974673 0.18055556 0.18239379 0.17708333\n",
      " 0.17810458 0.18055556 0.17810458 0.17851307 0.19607843 0.18913399\n",
      " 0.18954248 0.19403595 0.19444444 0.20200163 0.19771242 0.19934641\n",
      " 0.19873366 0.1997549  0.2128268  0.21568627 0.20445261 0.21772876\n",
      " 0.21098856 0.21425654 0.19750817 0.18811275 0.17851307 0.17381536\n",
      " 0.16033497 0.16564542 0.17116013 0.17422386 0.18035131 0.17401961\n",
      " 0.16278595 0.16973039 0.17810458 0.17034314 0.16830065 0.17279412\n",
      " 0.17544935 0.18382353 0.19138072 0.18913399 0.19097222 0.17238562\n",
      " 0.16830065 0.1693219  0.17177288 0.16156046 0.14971405 0.1503268\n",
      " 0.15196078 0.14726307 0.14501634 0.14603758 0.12479575 0.13112745\n",
      " 0.11397059 0.1190768  0.12377451 0.13562092 0.12908497 0.13459967\n",
      " 0.12806373 0.13031046 0.12724673 0.13521242 0.14522059 0.15257353\n",
      " 0.14848856 0.14338235 0.14562908 0.15236928 0.15400327 0.14971405\n",
      " 0.1621732  0.16319444 0.16584967 0.16493383 0.16647661 0.16699898\n",
      " 0.16720441 0.16732405 0.1674259  0.16753995 0.16768269 0.16785979\n",
      " 0.16806859 0.1683023  0.16855279 0.16881251 0.1690758  0.16933863\n",
      " 0.16959874 0.1698551  0.1701075  0.17035605]\n",
      "19 day output [[0.17060119]]\n",
      "20 day input [0.20812908 0.18974673 0.18055556 0.18239379 0.17708333 0.17810458\n",
      " 0.18055556 0.17810458 0.17851307 0.19607843 0.18913399 0.18954248\n",
      " 0.19403595 0.19444444 0.20200163 0.19771242 0.19934641 0.19873366\n",
      " 0.1997549  0.2128268  0.21568627 0.20445261 0.21772876 0.21098856\n",
      " 0.21425654 0.19750817 0.18811275 0.17851307 0.17381536 0.16033497\n",
      " 0.16564542 0.17116013 0.17422386 0.18035131 0.17401961 0.16278595\n",
      " 0.16973039 0.17810458 0.17034314 0.16830065 0.17279412 0.17544935\n",
      " 0.18382353 0.19138072 0.18913399 0.19097222 0.17238562 0.16830065\n",
      " 0.1693219  0.17177288 0.16156046 0.14971405 0.1503268  0.15196078\n",
      " 0.14726307 0.14501634 0.14603758 0.12479575 0.13112745 0.11397059\n",
      " 0.1190768  0.12377451 0.13562092 0.12908497 0.13459967 0.12806373\n",
      " 0.13031046 0.12724673 0.13521242 0.14522059 0.15257353 0.14848856\n",
      " 0.14338235 0.14562908 0.15236928 0.15400327 0.14971405 0.1621732\n",
      " 0.16319444 0.16584967 0.16493383 0.16647661 0.16699898 0.16720441\n",
      " 0.16732405 0.1674259  0.16753995 0.16768269 0.16785979 0.16806859\n",
      " 0.1683023  0.16855279 0.16881251 0.1690758  0.16933863 0.16959874\n",
      " 0.1698551  0.1701075  0.17035605 0.17060119]\n",
      "20 day output [[0.1708431]]\n",
      "21 day input [0.18974673 0.18055556 0.18239379 0.17708333 0.17810458 0.18055556\n",
      " 0.17810458 0.17851307 0.19607843 0.18913399 0.18954248 0.19403595\n",
      " 0.19444444 0.20200163 0.19771242 0.19934641 0.19873366 0.1997549\n",
      " 0.2128268  0.21568627 0.20445261 0.21772876 0.21098856 0.21425654\n",
      " 0.19750817 0.18811275 0.17851307 0.17381536 0.16033497 0.16564542\n",
      " 0.17116013 0.17422386 0.18035131 0.17401961 0.16278595 0.16973039\n",
      " 0.17810458 0.17034314 0.16830065 0.17279412 0.17544935 0.18382353\n",
      " 0.19138072 0.18913399 0.19097222 0.17238562 0.16830065 0.1693219\n",
      " 0.17177288 0.16156046 0.14971405 0.1503268  0.15196078 0.14726307\n",
      " 0.14501634 0.14603758 0.12479575 0.13112745 0.11397059 0.1190768\n",
      " 0.12377451 0.13562092 0.12908497 0.13459967 0.12806373 0.13031046\n",
      " 0.12724673 0.13521242 0.14522059 0.15257353 0.14848856 0.14338235\n",
      " 0.14562908 0.15236928 0.15400327 0.14971405 0.1621732  0.16319444\n",
      " 0.16584967 0.16493383 0.16647661 0.16699898 0.16720441 0.16732405\n",
      " 0.1674259  0.16753995 0.16768269 0.16785979 0.16806859 0.1683023\n",
      " 0.16855279 0.16881251 0.1690758  0.16933863 0.16959874 0.1698551\n",
      " 0.1701075  0.17035605 0.17060119 0.17084309]\n",
      "21 day output [[0.17108193]]\n",
      "22 day input [0.18055556 0.18239379 0.17708333 0.17810458 0.18055556 0.17810458\n",
      " 0.17851307 0.19607843 0.18913399 0.18954248 0.19403595 0.19444444\n",
      " 0.20200163 0.19771242 0.19934641 0.19873366 0.1997549  0.2128268\n",
      " 0.21568627 0.20445261 0.21772876 0.21098856 0.21425654 0.19750817\n",
      " 0.18811275 0.17851307 0.17381536 0.16033497 0.16564542 0.17116013\n",
      " 0.17422386 0.18035131 0.17401961 0.16278595 0.16973039 0.17810458\n",
      " 0.17034314 0.16830065 0.17279412 0.17544935 0.18382353 0.19138072\n",
      " 0.18913399 0.19097222 0.17238562 0.16830065 0.1693219  0.17177288\n",
      " 0.16156046 0.14971405 0.1503268  0.15196078 0.14726307 0.14501634\n",
      " 0.14603758 0.12479575 0.13112745 0.11397059 0.1190768  0.12377451\n",
      " 0.13562092 0.12908497 0.13459967 0.12806373 0.13031046 0.12724673\n",
      " 0.13521242 0.14522059 0.15257353 0.14848856 0.14338235 0.14562908\n",
      " 0.15236928 0.15400327 0.14971405 0.1621732  0.16319444 0.16584967\n",
      " 0.16493383 0.16647661 0.16699898 0.16720441 0.16732405 0.1674259\n",
      " 0.16753995 0.16768269 0.16785979 0.16806859 0.1683023  0.16855279\n",
      " 0.16881251 0.1690758  0.16933863 0.16959874 0.1698551  0.1701075\n",
      " 0.17035605 0.17060119 0.17084309 0.17108193]\n",
      "22 day output [[0.17131765]]\n",
      "23 day input [0.18239379 0.17708333 0.17810458 0.18055556 0.17810458 0.17851307\n",
      " 0.19607843 0.18913399 0.18954248 0.19403595 0.19444444 0.20200163\n",
      " 0.19771242 0.19934641 0.19873366 0.1997549  0.2128268  0.21568627\n",
      " 0.20445261 0.21772876 0.21098856 0.21425654 0.19750817 0.18811275\n",
      " 0.17851307 0.17381536 0.16033497 0.16564542 0.17116013 0.17422386\n",
      " 0.18035131 0.17401961 0.16278595 0.16973039 0.17810458 0.17034314\n",
      " 0.16830065 0.17279412 0.17544935 0.18382353 0.19138072 0.18913399\n",
      " 0.19097222 0.17238562 0.16830065 0.1693219  0.17177288 0.16156046\n",
      " 0.14971405 0.1503268  0.15196078 0.14726307 0.14501634 0.14603758\n",
      " 0.12479575 0.13112745 0.11397059 0.1190768  0.12377451 0.13562092\n",
      " 0.12908497 0.13459967 0.12806373 0.13031046 0.12724673 0.13521242\n",
      " 0.14522059 0.15257353 0.14848856 0.14338235 0.14562908 0.15236928\n",
      " 0.15400327 0.14971405 0.1621732  0.16319444 0.16584967 0.16493383\n",
      " 0.16647661 0.16699898 0.16720441 0.16732405 0.1674259  0.16753995\n",
      " 0.16768269 0.16785979 0.16806859 0.1683023  0.16855279 0.16881251\n",
      " 0.1690758  0.16933863 0.16959874 0.1698551  0.1701075  0.17035605\n",
      " 0.17060119 0.17084309 0.17108193 0.17131765]\n",
      "23 day output [[0.17155018]]\n",
      "24 day input [0.17708333 0.17810458 0.18055556 0.17810458 0.17851307 0.19607843\n",
      " 0.18913399 0.18954248 0.19403595 0.19444444 0.20200163 0.19771242\n",
      " 0.19934641 0.19873366 0.1997549  0.2128268  0.21568627 0.20445261\n",
      " 0.21772876 0.21098856 0.21425654 0.19750817 0.18811275 0.17851307\n",
      " 0.17381536 0.16033497 0.16564542 0.17116013 0.17422386 0.18035131\n",
      " 0.17401961 0.16278595 0.16973039 0.17810458 0.17034314 0.16830065\n",
      " 0.17279412 0.17544935 0.18382353 0.19138072 0.18913399 0.19097222\n",
      " 0.17238562 0.16830065 0.1693219  0.17177288 0.16156046 0.14971405\n",
      " 0.1503268  0.15196078 0.14726307 0.14501634 0.14603758 0.12479575\n",
      " 0.13112745 0.11397059 0.1190768  0.12377451 0.13562092 0.12908497\n",
      " 0.13459967 0.12806373 0.13031046 0.12724673 0.13521242 0.14522059\n",
      " 0.15257353 0.14848856 0.14338235 0.14562908 0.15236928 0.15400327\n",
      " 0.14971405 0.1621732  0.16319444 0.16584967 0.16493383 0.16647661\n",
      " 0.16699898 0.16720441 0.16732405 0.1674259  0.16753995 0.16768269\n",
      " 0.16785979 0.16806859 0.1683023  0.16855279 0.16881251 0.1690758\n",
      " 0.16933863 0.16959874 0.1698551  0.1701075  0.17035605 0.17060119\n",
      " 0.17084309 0.17108193 0.17131765 0.17155018]\n",
      "24 day output [[0.1717793]]\n",
      "25 day input [0.17810458 0.18055556 0.17810458 0.17851307 0.19607843 0.18913399\n",
      " 0.18954248 0.19403595 0.19444444 0.20200163 0.19771242 0.19934641\n",
      " 0.19873366 0.1997549  0.2128268  0.21568627 0.20445261 0.21772876\n",
      " 0.21098856 0.21425654 0.19750817 0.18811275 0.17851307 0.17381536\n",
      " 0.16033497 0.16564542 0.17116013 0.17422386 0.18035131 0.17401961\n",
      " 0.16278595 0.16973039 0.17810458 0.17034314 0.16830065 0.17279412\n",
      " 0.17544935 0.18382353 0.19138072 0.18913399 0.19097222 0.17238562\n",
      " 0.16830065 0.1693219  0.17177288 0.16156046 0.14971405 0.1503268\n",
      " 0.15196078 0.14726307 0.14501634 0.14603758 0.12479575 0.13112745\n",
      " 0.11397059 0.1190768  0.12377451 0.13562092 0.12908497 0.13459967\n",
      " 0.12806373 0.13031046 0.12724673 0.13521242 0.14522059 0.15257353\n",
      " 0.14848856 0.14338235 0.14562908 0.15236928 0.15400327 0.14971405\n",
      " 0.1621732  0.16319444 0.16584967 0.16493383 0.16647661 0.16699898\n",
      " 0.16720441 0.16732405 0.1674259  0.16753995 0.16768269 0.16785979\n",
      " 0.16806859 0.1683023  0.16855279 0.16881251 0.1690758  0.16933863\n",
      " 0.16959874 0.1698551  0.1701075  0.17035605 0.17060119 0.17084309\n",
      " 0.17108193 0.17131765 0.17155018 0.1717793 ]\n",
      "25 day output [[0.17200482]]\n",
      "26 day input [0.18055556 0.17810458 0.17851307 0.19607843 0.18913399 0.18954248\n",
      " 0.19403595 0.19444444 0.20200163 0.19771242 0.19934641 0.19873366\n",
      " 0.1997549  0.2128268  0.21568627 0.20445261 0.21772876 0.21098856\n",
      " 0.21425654 0.19750817 0.18811275 0.17851307 0.17381536 0.16033497\n",
      " 0.16564542 0.17116013 0.17422386 0.18035131 0.17401961 0.16278595\n",
      " 0.16973039 0.17810458 0.17034314 0.16830065 0.17279412 0.17544935\n",
      " 0.18382353 0.19138072 0.18913399 0.19097222 0.17238562 0.16830065\n",
      " 0.1693219  0.17177288 0.16156046 0.14971405 0.1503268  0.15196078\n",
      " 0.14726307 0.14501634 0.14603758 0.12479575 0.13112745 0.11397059\n",
      " 0.1190768  0.12377451 0.13562092 0.12908497 0.13459967 0.12806373\n",
      " 0.13031046 0.12724673 0.13521242 0.14522059 0.15257353 0.14848856\n",
      " 0.14338235 0.14562908 0.15236928 0.15400327 0.14971405 0.1621732\n",
      " 0.16319444 0.16584967 0.16493383 0.16647661 0.16699898 0.16720441\n",
      " 0.16732405 0.1674259  0.16753995 0.16768269 0.16785979 0.16806859\n",
      " 0.1683023  0.16855279 0.16881251 0.1690758  0.16933863 0.16959874\n",
      " 0.1698551  0.1701075  0.17035605 0.17060119 0.17084309 0.17108193\n",
      " 0.17131765 0.17155018 0.1717793  0.17200482]\n"
     ]
    },
    {
     "name": "stdout",
     "output_type": "stream",
     "text": [
      "26 day output [[0.1722265]]\n",
      "27 day input [0.17810458 0.17851307 0.19607843 0.18913399 0.18954248 0.19403595\n",
      " 0.19444444 0.20200163 0.19771242 0.19934641 0.19873366 0.1997549\n",
      " 0.2128268  0.21568627 0.20445261 0.21772876 0.21098856 0.21425654\n",
      " 0.19750817 0.18811275 0.17851307 0.17381536 0.16033497 0.16564542\n",
      " 0.17116013 0.17422386 0.18035131 0.17401961 0.16278595 0.16973039\n",
      " 0.17810458 0.17034314 0.16830065 0.17279412 0.17544935 0.18382353\n",
      " 0.19138072 0.18913399 0.19097222 0.17238562 0.16830065 0.1693219\n",
      " 0.17177288 0.16156046 0.14971405 0.1503268  0.15196078 0.14726307\n",
      " 0.14501634 0.14603758 0.12479575 0.13112745 0.11397059 0.1190768\n",
      " 0.12377451 0.13562092 0.12908497 0.13459967 0.12806373 0.13031046\n",
      " 0.12724673 0.13521242 0.14522059 0.15257353 0.14848856 0.14338235\n",
      " 0.14562908 0.15236928 0.15400327 0.14971405 0.1621732  0.16319444\n",
      " 0.16584967 0.16493383 0.16647661 0.16699898 0.16720441 0.16732405\n",
      " 0.1674259  0.16753995 0.16768269 0.16785979 0.16806859 0.1683023\n",
      " 0.16855279 0.16881251 0.1690758  0.16933863 0.16959874 0.1698551\n",
      " 0.1701075  0.17035605 0.17060119 0.17084309 0.17108193 0.17131765\n",
      " 0.17155018 0.1717793  0.17200482 0.1722265 ]\n",
      "27 day output [[0.17244422]]\n",
      "28 day input [0.17851307 0.19607843 0.18913399 0.18954248 0.19403595 0.19444444\n",
      " 0.20200163 0.19771242 0.19934641 0.19873366 0.1997549  0.2128268\n",
      " 0.21568627 0.20445261 0.21772876 0.21098856 0.21425654 0.19750817\n",
      " 0.18811275 0.17851307 0.17381536 0.16033497 0.16564542 0.17116013\n",
      " 0.17422386 0.18035131 0.17401961 0.16278595 0.16973039 0.17810458\n",
      " 0.17034314 0.16830065 0.17279412 0.17544935 0.18382353 0.19138072\n",
      " 0.18913399 0.19097222 0.17238562 0.16830065 0.1693219  0.17177288\n",
      " 0.16156046 0.14971405 0.1503268  0.15196078 0.14726307 0.14501634\n",
      " 0.14603758 0.12479575 0.13112745 0.11397059 0.1190768  0.12377451\n",
      " 0.13562092 0.12908497 0.13459967 0.12806373 0.13031046 0.12724673\n",
      " 0.13521242 0.14522059 0.15257353 0.14848856 0.14338235 0.14562908\n",
      " 0.15236928 0.15400327 0.14971405 0.1621732  0.16319444 0.16584967\n",
      " 0.16493383 0.16647661 0.16699898 0.16720441 0.16732405 0.1674259\n",
      " 0.16753995 0.16768269 0.16785979 0.16806859 0.1683023  0.16855279\n",
      " 0.16881251 0.1690758  0.16933863 0.16959874 0.1698551  0.1701075\n",
      " 0.17035605 0.17060119 0.17084309 0.17108193 0.17131765 0.17155018\n",
      " 0.1717793  0.17200482 0.1722265  0.17244422]\n",
      "28 day output [[0.17265794]]\n",
      "29 day input [0.19607843 0.18913399 0.18954248 0.19403595 0.19444444 0.20200163\n",
      " 0.19771242 0.19934641 0.19873366 0.1997549  0.2128268  0.21568627\n",
      " 0.20445261 0.21772876 0.21098856 0.21425654 0.19750817 0.18811275\n",
      " 0.17851307 0.17381536 0.16033497 0.16564542 0.17116013 0.17422386\n",
      " 0.18035131 0.17401961 0.16278595 0.16973039 0.17810458 0.17034314\n",
      " 0.16830065 0.17279412 0.17544935 0.18382353 0.19138072 0.18913399\n",
      " 0.19097222 0.17238562 0.16830065 0.1693219  0.17177288 0.16156046\n",
      " 0.14971405 0.1503268  0.15196078 0.14726307 0.14501634 0.14603758\n",
      " 0.12479575 0.13112745 0.11397059 0.1190768  0.12377451 0.13562092\n",
      " 0.12908497 0.13459967 0.12806373 0.13031046 0.12724673 0.13521242\n",
      " 0.14522059 0.15257353 0.14848856 0.14338235 0.14562908 0.15236928\n",
      " 0.15400327 0.14971405 0.1621732  0.16319444 0.16584967 0.16493383\n",
      " 0.16647661 0.16699898 0.16720441 0.16732405 0.1674259  0.16753995\n",
      " 0.16768269 0.16785979 0.16806859 0.1683023  0.16855279 0.16881251\n",
      " 0.1690758  0.16933863 0.16959874 0.1698551  0.1701075  0.17035605\n",
      " 0.17060119 0.17084309 0.17108193 0.17131765 0.17155018 0.1717793\n",
      " 0.17200482 0.1722265  0.17244422 0.17265794]\n",
      "29 day output [[0.17286757]]\n",
      "[[0.16493383049964905], [0.16647660732269287], [0.1669989824295044], [0.16720440983772278], [0.16732405126094818], [0.16742590069770813], [0.16753995418548584], [0.1676826924085617], [0.16785979270935059], [0.16806858777999878], [0.16830229759216309], [0.16855278611183167], [0.16881251335144043], [0.16907580196857452], [0.1693386286497116], [0.1695987433195114], [0.16985510289669037], [0.17010749876499176], [0.17035605013370514], [0.17060118913650513], [0.17084309458732605], [0.17108193039894104], [0.17131765186786652], [0.1715501844882965], [0.1717793047428131], [0.1720048189163208], [0.17222650349140167], [0.17244422435760498], [0.17265793681144714], [0.1728675663471222]]\n"
     ]
    }
   ],
   "source": [
    "lst_output=[]\n",
    "n_steps=100\n",
    "nextNumberOfDays = 30\n",
    "i=0\n",
    "\n",
    "while(i<nextNumberOfDays):\n",
    "    \n",
    "    if(len(temp_input)>100):\n",
    "        x_input=np.array(temp_input[1:])\n",
    "        print(\"{} day input {}\".format(i,x_input))\n",
    "        x_input=x_input.reshape(1,-1)\n",
    "        x_input = x_input.reshape((1, n_steps, 1))\n",
    "        yhat = model.predict(x_input, verbose=0)\n",
    "        print(\"{} day output {}\".format(i,yhat))\n",
    "        temp_input.extend(yhat[0].tolist())\n",
    "        temp_input=temp_input[1:]\n",
    "        lst_output.extend(yhat.tolist())\n",
    "        i=i+1\n",
    "    else:\n",
    "        x_input = x_input.reshape((1, n_steps,1))\n",
    "        yhat = model.predict(x_input, verbose=0)\n",
    "        print(yhat[0])\n",
    "        temp_input.extend(yhat[0].tolist())\n",
    "        print(len(temp_input))\n",
    "        lst_output.extend(yhat.tolist())\n",
    "        i=i+1\n",
    "    \n",
    "\n",
    "print(lst_output)"
   ]
  },
  {
   "cell_type": "code",
   "execution_count": 38,
   "metadata": {},
   "outputs": [],
   "source": [
    "day_new = np.arange(1,101)\n",
    "day_pred = np.arange(101,131)"
   ]
  },
  {
   "cell_type": "code",
   "execution_count": 39,
   "metadata": {},
   "outputs": [],
   "source": [
    "df = dataclose.tolist()\n",
    "df.extend(lst_output)"
   ]
  },
  {
   "cell_type": "code",
   "execution_count": 40,
   "metadata": {},
   "outputs": [
    {
     "data": {
      "text/plain": [
       "2035"
      ]
     },
     "execution_count": 40,
     "metadata": {},
     "output_type": "execute_result"
    }
   ],
   "source": [
    "len(dataclose)"
   ]
  },
  {
   "cell_type": "code",
   "execution_count": 43,
   "metadata": {},
   "outputs": [
    {
     "data": {
      "text/plain": [
       "[<matplotlib.lines.Line2D at 0x15122133b00>]"
      ]
     },
     "execution_count": 43,
     "metadata": {},
     "output_type": "execute_result"
    },
    {
     "data": {
      "image/png": "[encoded data removed]",
      "text/plain": [
       "<Figure size 432x288 with 1 Axes>"
      ]
     },
     "metadata": {
      "needs_background": "light"
     },
     "output_type": "display_data"
    }
   ],
   "source": [
    "plt.plot(day_new, SC.inverse_transform(dataclose[1935:]))\n",
    "plt.plot(day_pred, SC.inverse_transform(lst_output))"
   ]
  }
 ],
 "metadata": {
  "kernelspec": {
   "display_name": "Python 3",
   "language": "python",
   "name": "python3"
  },
  "language_info": {
   "codemirror_mode": {
    "name": "ipython",
    "version": 3
   },
   "file_extension": ".py",
   "mimetype": "text/x-python",
   "name": "python",
   "nbconvert_exporter": "python",
   "pygments_lexer": "ipython3",
   "version": "3.7.3"
  }
 },
 "nbformat": 4,
 "nbformat_minor": 2
}
